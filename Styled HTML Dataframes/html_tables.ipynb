{
 "cells": [
  {
   "cell_type": "markdown",
   "id": "3cf4babf",
   "metadata": {
    "toc": true
   },
   "source": [
    "<h1>Styled dataframes<span class=\"tocSkip\"></span></h1>\n",
    "<div class=\"toc\"><ul class=\"toc-item\"></ul></div>"
   ]
  },
  {
   "cell_type": "code",
   "execution_count": 59,
   "id": "5d5201bf",
   "metadata": {},
   "outputs": [],
   "source": [
    "import pandas as pd\n",
    "from IPython.display import HTML"
   ]
  },
  {
   "cell_type": "code",
   "execution_count": 60,
   "id": "c268a2fb",
   "metadata": {},
   "outputs": [],
   "source": [
    "data = {\n",
    "    'Total amount': [120000, 180000, 50000, 20000],\n",
    "    'Items': [\n",
    "        'OEM warranty budget',\n",
    "        'Dist warranty budget',\n",
    "        'Extended warranty budget',\n",
    "        'Goodwill budget'\n",
    "    ]\n",
    "}"
   ]
  },
  {
   "cell_type": "code",
   "execution_count": 61,
   "id": "256c4fd0",
   "metadata": {},
   "outputs": [],
   "source": [
    "df = pd.DataFrame(data)\n",
    "html_table = df.to_html(classes='table-style', escape=False)"
   ]
  },
  {
   "cell_type": "code",
   "execution_count": 62,
   "id": "ad98c5f8",
   "metadata": {},
   "outputs": [],
   "source": [
    "html_style = \"\"\"\n",
    "<!DOCTYPE html>\n",
    "<html>\n",
    "<head>\n",
    "<style>\n",
    "    .table-style {\n",
    "        border-collapse: collapse;\n",
    "        width: 100%;\n",
    "    }\n",
    "    .table-style td, .table-style th {\n",
    "        border: 1px solid #ddd;\n",
    "        padding: 8px;\n",
    "    }\n",
    "    .table-style td {\n",
    "        max-width: 150px;\n",
    "        word-wrap: break-word;\n",
    "    }\n",
    "</style>\n",
    "</head>\n",
    "<body>\n",
    "\"\"\"\n",
    "complete_html = html_style + html_table + '</body></html>'\n",
    "\n",
    "with open('styled_table.html', 'w') as file:\n",
    "    file.write(complete_html)"
   ]
  },
  {
   "cell_type": "code",
   "execution_count": 63,
   "id": "b81ddd05",
   "metadata": {},
   "outputs": [
    {
     "data": {
      "text/html": [
       "\n",
       "<!DOCTYPE html>\n",
       "<html>\n",
       "<head>\n",
       "<style>\n",
       "    .table-style {\n",
       "        border-collapse: collapse;\n",
       "        width: 100%;\n",
       "    }\n",
       "    .table-style td, .table-style th {\n",
       "        border: 1px solid #ddd;\n",
       "        padding: 8px;\n",
       "    }\n",
       "    .table-style td {\n",
       "        max-width: 150px;\n",
       "        word-wrap: break-word;\n",
       "    }\n",
       "</style>\n",
       "</head>\n",
       "<body>\n",
       "<table border=\"1\" class=\"dataframe table-style\">\n",
       "  <thead>\n",
       "    <tr style=\"text-align: right;\">\n",
       "      <th></th>\n",
       "      <th>Total amount</th>\n",
       "      <th>Items</th>\n",
       "    </tr>\n",
       "  </thead>\n",
       "  <tbody>\n",
       "    <tr>\n",
       "      <th>0</th>\n",
       "      <td>120000</td>\n",
       "      <td>OEM warranty budget</td>\n",
       "    </tr>\n",
       "    <tr>\n",
       "      <th>1</th>\n",
       "      <td>180000</td>\n",
       "      <td>Dist warranty budget</td>\n",
       "    </tr>\n",
       "    <tr>\n",
       "      <th>2</th>\n",
       "      <td>50000</td>\n",
       "      <td>Extended warranty budget</td>\n",
       "    </tr>\n",
       "    <tr>\n",
       "      <th>3</th>\n",
       "      <td>20000</td>\n",
       "      <td>Goodwill budget</td>\n",
       "    </tr>\n",
       "  </tbody>\n",
       "</table></body></html>"
      ],
      "text/plain": [
       "<IPython.core.display.HTML object>"
      ]
     },
     "execution_count": 63,
     "metadata": {},
     "output_type": "execute_result"
    }
   ],
   "source": [
    "HTML(filename='styled_table.html')"
   ]
  },
  {
   "cell_type": "code",
   "execution_count": 64,
   "id": "2e8735ea",
   "metadata": {},
   "outputs": [],
   "source": [
    "styled_df = df.style.set_properties(**{\n",
    "    'text-align': 'center',\n",
    "    'font-weight': 'bold',\n",
    "    'font-style': 'italic'\n",
    "}).set_table_styles([{\n",
    "    'selector': 'td:nth-child(2)',\n",
    "    'props': [('text-align', 'right')]\n",
    "}, {\n",
    "    'selector': 'td:nth-child(3)',\n",
    "    'props': [('text-decoration', 'underline')]\n",
    "}])\n",
    "\n",
    "html_styled = styled_df.to_html(escape=False)\n",
    "\n",
    "with open('styled_table_new.html', 'w') as file:\n",
    "    file.write(html_styled)"
   ]
  },
  {
   "cell_type": "code",
   "execution_count": 65,
   "id": "8970373b",
   "metadata": {},
   "outputs": [
    {
     "data": {
      "text/html": [
       "<style type=\"text/css\">\n",
       "#T_3cc96 td:nth-child(2) {\n",
       "  text-align: right;\n",
       "}\n",
       "#T_3cc96 td:nth-child(3) {\n",
       "  text-decoration: underline;\n",
       "}\n",
       "#T_3cc96_row0_col0, #T_3cc96_row0_col1, #T_3cc96_row1_col0, #T_3cc96_row1_col1, #T_3cc96_row2_col0, #T_3cc96_row2_col1, #T_3cc96_row3_col0, #T_3cc96_row3_col1 {\n",
       "  text-align: center;\n",
       "  font-weight: bold;\n",
       "  font-style: italic;\n",
       "}\n",
       "</style>\n",
       "<table id=\"T_3cc96\">\n",
       "  <thead>\n",
       "    <tr>\n",
       "      <th class=\"blank level0\" >&nbsp;</th>\n",
       "      <th id=\"T_3cc96_level0_col0\" class=\"col_heading level0 col0\" >Total amount</th>\n",
       "      <th id=\"T_3cc96_level0_col1\" class=\"col_heading level0 col1\" >Items</th>\n",
       "    </tr>\n",
       "  </thead>\n",
       "  <tbody>\n",
       "    <tr>\n",
       "      <th id=\"T_3cc96_level0_row0\" class=\"row_heading level0 row0\" >0</th>\n",
       "      <td id=\"T_3cc96_row0_col0\" class=\"data row0 col0\" >120000</td>\n",
       "      <td id=\"T_3cc96_row0_col1\" class=\"data row0 col1\" >OEM warranty budget</td>\n",
       "    </tr>\n",
       "    <tr>\n",
       "      <th id=\"T_3cc96_level0_row1\" class=\"row_heading level0 row1\" >1</th>\n",
       "      <td id=\"T_3cc96_row1_col0\" class=\"data row1 col0\" >180000</td>\n",
       "      <td id=\"T_3cc96_row1_col1\" class=\"data row1 col1\" >Dist warranty budget</td>\n",
       "    </tr>\n",
       "    <tr>\n",
       "      <th id=\"T_3cc96_level0_row2\" class=\"row_heading level0 row2\" >2</th>\n",
       "      <td id=\"T_3cc96_row2_col0\" class=\"data row2 col0\" >50000</td>\n",
       "      <td id=\"T_3cc96_row2_col1\" class=\"data row2 col1\" >Extended warranty budget</td>\n",
       "    </tr>\n",
       "    <tr>\n",
       "      <th id=\"T_3cc96_level0_row3\" class=\"row_heading level0 row3\" >3</th>\n",
       "      <td id=\"T_3cc96_row3_col0\" class=\"data row3 col0\" >20000</td>\n",
       "      <td id=\"T_3cc96_row3_col1\" class=\"data row3 col1\" >Goodwill budget</td>\n",
       "    </tr>\n",
       "  </tbody>\n",
       "</table>\n"
      ],
      "text/plain": [
       "<IPython.core.display.HTML object>"
      ]
     },
     "execution_count": 65,
     "metadata": {},
     "output_type": "execute_result"
    }
   ],
   "source": [
    "HTML(filename='styled_table_new.html')"
   ]
  },
  {
   "cell_type": "code",
   "execution_count": 66,
   "id": "1c89df71",
   "metadata": {},
   "outputs": [],
   "source": [
    "styled_df = df.style.set_properties(**{\n",
    "    'font-size': '15px',\n",
    "    'color': 'darkblue'\n",
    "}).set_table_styles([{\n",
    "    'selector': 'th',\n",
    "    'props': [('font-size', '18px'), ('font-family', 'Arial'), ('color', 'darkred')]\n",
    "}, {\n",
    "    'selector': 'td:nth-child(3)',\n",
    "    'props': [('font-family', 'Helvetica'), ('font-style', 'italic')]\n",
    "}])\n",
    "\n",
    "html_styled = styled_df.to_html(escape=False)\n",
    "\n",
    "with open('styled_table_upd.html', 'w') as file:\n",
    "    file.write(html_styled)"
   ]
  },
  {
   "cell_type": "code",
   "execution_count": 67,
   "id": "f2fd3bd0",
   "metadata": {},
   "outputs": [
    {
     "data": {
      "text/html": [
       "<style type=\"text/css\">\n",
       "#T_d6744 th {\n",
       "  font-size: 18px;\n",
       "  font-family: Arial;\n",
       "  color: darkred;\n",
       "}\n",
       "#T_d6744 td:nth-child(3) {\n",
       "  font-family: Helvetica;\n",
       "  font-style: italic;\n",
       "}\n",
       "#T_d6744_row0_col0, #T_d6744_row0_col1, #T_d6744_row1_col0, #T_d6744_row1_col1, #T_d6744_row2_col0, #T_d6744_row2_col1, #T_d6744_row3_col0, #T_d6744_row3_col1 {\n",
       "  font-size: 15px;\n",
       "  color: darkblue;\n",
       "}\n",
       "</style>\n",
       "<table id=\"T_d6744\">\n",
       "  <thead>\n",
       "    <tr>\n",
       "      <th class=\"blank level0\" >&nbsp;</th>\n",
       "      <th id=\"T_d6744_level0_col0\" class=\"col_heading level0 col0\" >Total amount</th>\n",
       "      <th id=\"T_d6744_level0_col1\" class=\"col_heading level0 col1\" >Items</th>\n",
       "    </tr>\n",
       "  </thead>\n",
       "  <tbody>\n",
       "    <tr>\n",
       "      <th id=\"T_d6744_level0_row0\" class=\"row_heading level0 row0\" >0</th>\n",
       "      <td id=\"T_d6744_row0_col0\" class=\"data row0 col0\" >120000</td>\n",
       "      <td id=\"T_d6744_row0_col1\" class=\"data row0 col1\" >OEM warranty budget</td>\n",
       "    </tr>\n",
       "    <tr>\n",
       "      <th id=\"T_d6744_level0_row1\" class=\"row_heading level0 row1\" >1</th>\n",
       "      <td id=\"T_d6744_row1_col0\" class=\"data row1 col0\" >180000</td>\n",
       "      <td id=\"T_d6744_row1_col1\" class=\"data row1 col1\" >Dist warranty budget</td>\n",
       "    </tr>\n",
       "    <tr>\n",
       "      <th id=\"T_d6744_level0_row2\" class=\"row_heading level0 row2\" >2</th>\n",
       "      <td id=\"T_d6744_row2_col0\" class=\"data row2 col0\" >50000</td>\n",
       "      <td id=\"T_d6744_row2_col1\" class=\"data row2 col1\" >Extended warranty budget</td>\n",
       "    </tr>\n",
       "    <tr>\n",
       "      <th id=\"T_d6744_level0_row3\" class=\"row_heading level0 row3\" >3</th>\n",
       "      <td id=\"T_d6744_row3_col0\" class=\"data row3 col0\" >20000</td>\n",
       "      <td id=\"T_d6744_row3_col1\" class=\"data row3 col1\" >Goodwill budget</td>\n",
       "    </tr>\n",
       "  </tbody>\n",
       "</table>\n"
      ],
      "text/plain": [
       "<IPython.core.display.HTML object>"
      ]
     },
     "execution_count": 67,
     "metadata": {},
     "output_type": "execute_result"
    }
   ],
   "source": [
    "HTML(filename='styled_table_upd.html')"
   ]
  },
  {
   "cell_type": "code",
   "execution_count": 68,
   "id": "fce93c49",
   "metadata": {},
   "outputs": [],
   "source": [
    "def color_score(val):\n",
    "    color = 'red' if val > 100000 else ('green' if val >= 20000 else 'orange')\n",
    "    return f'color: {color};'\n",
    "\n",
    "\n",
    "styled_df = df.style.applymap(color_score, subset=['Total amount'])\n",
    "\n",
    "\n",
    "styled_df = styled_df.highlight_max(subset='Total amount', color='orange')\n",
    "styled_df = styled_df.highlight_min(subset='Total amount', color='coral')\n",
    "\n",
    "\n",
    "html_styled = styled_df.to_html(escape=False)\n",
    "\n",
    "with open('styled_table_cond.html', 'w') as file:\n",
    "    file.write(html_styled)"
   ]
  },
  {
   "cell_type": "code",
   "execution_count": 69,
   "id": "d3a8b7d1",
   "metadata": {},
   "outputs": [
    {
     "data": {
      "text/html": [
       "<style type=\"text/css\">\n",
       "#T_cd5c6_row0_col0 {\n",
       "  color: red;\n",
       "}\n",
       "#T_cd5c6_row1_col0 {\n",
       "  color: red;\n",
       "  background-color: orange;\n",
       "}\n",
       "#T_cd5c6_row2_col0 {\n",
       "  color: green;\n",
       "}\n",
       "#T_cd5c6_row3_col0 {\n",
       "  color: green;\n",
       "  background-color: coral;\n",
       "}\n",
       "</style>\n",
       "<table id=\"T_cd5c6\">\n",
       "  <thead>\n",
       "    <tr>\n",
       "      <th class=\"blank level0\" >&nbsp;</th>\n",
       "      <th id=\"T_cd5c6_level0_col0\" class=\"col_heading level0 col0\" >Total amount</th>\n",
       "      <th id=\"T_cd5c6_level0_col1\" class=\"col_heading level0 col1\" >Items</th>\n",
       "    </tr>\n",
       "  </thead>\n",
       "  <tbody>\n",
       "    <tr>\n",
       "      <th id=\"T_cd5c6_level0_row0\" class=\"row_heading level0 row0\" >0</th>\n",
       "      <td id=\"T_cd5c6_row0_col0\" class=\"data row0 col0\" >120000</td>\n",
       "      <td id=\"T_cd5c6_row0_col1\" class=\"data row0 col1\" >OEM warranty budget</td>\n",
       "    </tr>\n",
       "    <tr>\n",
       "      <th id=\"T_cd5c6_level0_row1\" class=\"row_heading level0 row1\" >1</th>\n",
       "      <td id=\"T_cd5c6_row1_col0\" class=\"data row1 col0\" >180000</td>\n",
       "      <td id=\"T_cd5c6_row1_col1\" class=\"data row1 col1\" >Dist warranty budget</td>\n",
       "    </tr>\n",
       "    <tr>\n",
       "      <th id=\"T_cd5c6_level0_row2\" class=\"row_heading level0 row2\" >2</th>\n",
       "      <td id=\"T_cd5c6_row2_col0\" class=\"data row2 col0\" >50000</td>\n",
       "      <td id=\"T_cd5c6_row2_col1\" class=\"data row2 col1\" >Extended warranty budget</td>\n",
       "    </tr>\n",
       "    <tr>\n",
       "      <th id=\"T_cd5c6_level0_row3\" class=\"row_heading level0 row3\" >3</th>\n",
       "      <td id=\"T_cd5c6_row3_col0\" class=\"data row3 col0\" >20000</td>\n",
       "      <td id=\"T_cd5c6_row3_col1\" class=\"data row3 col1\" >Goodwill budget</td>\n",
       "    </tr>\n",
       "  </tbody>\n",
       "</table>\n"
      ],
      "text/plain": [
       "<IPython.core.display.HTML object>"
      ]
     },
     "execution_count": 69,
     "metadata": {},
     "output_type": "execute_result"
    }
   ],
   "source": [
    "HTML(filename='styled_table_cond.html')"
   ]
  },
  {
   "cell_type": "code",
   "execution_count": 70,
   "id": "f3386836",
   "metadata": {},
   "outputs": [],
   "source": [
    "styled_df = df.style.set_table_styles([\n",
    "    {'selector': 'th',\n",
    "     'props': [('background-color', 'lightblue'), ('color', 'black'), ('font-weight', 'bold')]},\n",
    "    {'selector': 'td',\n",
    "     'props': [('text-align', 'center')]},\n",
    "    {'selector': 'tr:nth-child(even)',\n",
    "     'props': [('background-color', 'lightgray')]},\n",
    "    {'selector': 'tr:nth-child(odd)',\n",
    "     'props': [('background-color', 'white')]},\n",
    "    {'selector': '.index_name',\n",
    "     'props': [('color', 'darkblue'), ('font-style', 'italic')]}\n",
    "], overwrite=False)\n",
    "\n",
    "\n",
    "styled_df.index.name = 'Index'\n",
    "\n",
    "html_styled = styled_df.to_html(escape=False)\n",
    "\n",
    "with open('styled_table_col.html', 'w') as file:\n",
    "    file.write(html_styled)"
   ]
  },
  {
   "cell_type": "code",
   "execution_count": 71,
   "id": "b2ad5d46",
   "metadata": {},
   "outputs": [
    {
     "data": {
      "text/html": [
       "<style type=\"text/css\">\n",
       "#T_59011 th {\n",
       "  background-color: lightblue;\n",
       "  color: black;\n",
       "  font-weight: bold;\n",
       "}\n",
       "#T_59011 td {\n",
       "  text-align: center;\n",
       "}\n",
       "#T_59011 tr:nth-child(even) {\n",
       "  background-color: lightgray;\n",
       "}\n",
       "#T_59011 tr:nth-child(odd) {\n",
       "  background-color: white;\n",
       "}\n",
       "#T_59011 .index_name {\n",
       "  color: darkblue;\n",
       "  font-style: italic;\n",
       "}\n",
       "</style>\n",
       "<table id=\"T_59011\">\n",
       "  <thead>\n",
       "    <tr>\n",
       "      <th class=\"blank level0\" >&nbsp;</th>\n",
       "      <th id=\"T_59011_level0_col0\" class=\"col_heading level0 col0\" >Total amount</th>\n",
       "      <th id=\"T_59011_level0_col1\" class=\"col_heading level0 col1\" >Items</th>\n",
       "    </tr>\n",
       "    <tr>\n",
       "      <th class=\"index_name level0\" >Index</th>\n",
       "      <th class=\"blank col0\" >&nbsp;</th>\n",
       "      <th class=\"blank col1\" >&nbsp;</th>\n",
       "    </tr>\n",
       "  </thead>\n",
       "  <tbody>\n",
       "    <tr>\n",
       "      <th id=\"T_59011_level0_row0\" class=\"row_heading level0 row0\" >0</th>\n",
       "      <td id=\"T_59011_row0_col0\" class=\"data row0 col0\" >120000</td>\n",
       "      <td id=\"T_59011_row0_col1\" class=\"data row0 col1\" >OEM warranty budget</td>\n",
       "    </tr>\n",
       "    <tr>\n",
       "      <th id=\"T_59011_level0_row1\" class=\"row_heading level0 row1\" >1</th>\n",
       "      <td id=\"T_59011_row1_col0\" class=\"data row1 col0\" >180000</td>\n",
       "      <td id=\"T_59011_row1_col1\" class=\"data row1 col1\" >Dist warranty budget</td>\n",
       "    </tr>\n",
       "    <tr>\n",
       "      <th id=\"T_59011_level0_row2\" class=\"row_heading level0 row2\" >2</th>\n",
       "      <td id=\"T_59011_row2_col0\" class=\"data row2 col0\" >50000</td>\n",
       "      <td id=\"T_59011_row2_col1\" class=\"data row2 col1\" >Extended warranty budget</td>\n",
       "    </tr>\n",
       "    <tr>\n",
       "      <th id=\"T_59011_level0_row3\" class=\"row_heading level0 row3\" >3</th>\n",
       "      <td id=\"T_59011_row3_col0\" class=\"data row3 col0\" >20000</td>\n",
       "      <td id=\"T_59011_row3_col1\" class=\"data row3 col1\" >Goodwill budget</td>\n",
       "    </tr>\n",
       "  </tbody>\n",
       "</table>\n"
      ],
      "text/plain": [
       "<IPython.core.display.HTML object>"
      ]
     },
     "execution_count": 71,
     "metadata": {},
     "output_type": "execute_result"
    }
   ],
   "source": [
    "HTML(filename='styled_table_col.html')"
   ]
  },
  {
   "cell_type": "code",
   "execution_count": 72,
   "id": "bde3e81d",
   "metadata": {},
   "outputs": [],
   "source": [
    "html_table = df.to_html(classes='table-style', escape=False)\n",
    "\n",
    "css_set_column_width = \"\"\"\n",
    "\n",
    "<style>\n",
    "    .table-style {\n",
    "        width: 80%; \n",
    "    }\n",
    "    .table-style th, .table-style td {\n",
    "        width: 50%;\n",
    "    }\n",
    "\n",
    "    .table-style th:nth-child(1), .table-style td:nth-child(1) { width: 10%; }\n",
    "    .table-style th:nth-child(2), .table-style td:nth-child(2) { width: 30%; }\n",
    "    .table-style th:nth-child(3), .table-style td:nth-child(3) { width: 60%;\n",
    "                                                                 font-weight: bold;\n",
    "                                                                 color: green;}\n",
    "</style>\n",
    "\"\"\"\n",
    "html_with_column_widths = css_set_column_width + html_table\n",
    "\n",
    "with open('styled_table_adj.html', 'w') as file:\n",
    "    file.write(html_with_column_widths)"
   ]
  },
  {
   "cell_type": "code",
   "execution_count": 73,
   "id": "9a6f3c89",
   "metadata": {},
   "outputs": [
    {
     "data": {
      "text/html": [
       "\n",
       "\n",
       "<style>\n",
       "    .table-style {\n",
       "        width: 80%; \n",
       "    }\n",
       "    .table-style th, .table-style td {\n",
       "        width: 50%;\n",
       "    }\n",
       "\n",
       "    .table-style th:nth-child(1), .table-style td:nth-child(1) { width: 10%; }\n",
       "    .table-style th:nth-child(2), .table-style td:nth-child(2) { width: 30%; }\n",
       "    .table-style th:nth-child(3), .table-style td:nth-child(3) { width: 60%;\n",
       "                                                                 font-weight: bold;\n",
       "                                                                 color: green;}\n",
       "</style>\n",
       "<table border=\"1\" class=\"dataframe table-style\">\n",
       "  <thead>\n",
       "    <tr style=\"text-align: right;\">\n",
       "      <th></th>\n",
       "      <th>Total amount</th>\n",
       "      <th>Items</th>\n",
       "    </tr>\n",
       "    <tr>\n",
       "      <th>Index</th>\n",
       "      <th></th>\n",
       "      <th></th>\n",
       "    </tr>\n",
       "  </thead>\n",
       "  <tbody>\n",
       "    <tr>\n",
       "      <th>0</th>\n",
       "      <td>120000</td>\n",
       "      <td>OEM warranty budget</td>\n",
       "    </tr>\n",
       "    <tr>\n",
       "      <th>1</th>\n",
       "      <td>180000</td>\n",
       "      <td>Dist warranty budget</td>\n",
       "    </tr>\n",
       "    <tr>\n",
       "      <th>2</th>\n",
       "      <td>50000</td>\n",
       "      <td>Extended warranty budget</td>\n",
       "    </tr>\n",
       "    <tr>\n",
       "      <th>3</th>\n",
       "      <td>20000</td>\n",
       "      <td>Goodwill budget</td>\n",
       "    </tr>\n",
       "  </tbody>\n",
       "</table>"
      ],
      "text/plain": [
       "<IPython.core.display.HTML object>"
      ]
     },
     "execution_count": 73,
     "metadata": {},
     "output_type": "execute_result"
    }
   ],
   "source": [
    "HTML(filename='styled_table_adj.html')"
   ]
  },
  {
   "cell_type": "code",
   "execution_count": 74,
   "id": "60d792e9",
   "metadata": {},
   "outputs": [],
   "source": [
    "styled_df = df.style.set_table_styles([\n",
    "    {'selector': 'th, td',\n",
    "     'props': [('padding', '10px'), ('margin', '5px'), ('border', '1px solid black')]},\n",
    "    {'selector': 'table',\n",
    "     'props': [('border-collapse', 'separate'), ('border-spacing', '15px 5px')]},\n",
    "], overwrite=False)\n",
    "\n",
    "html_styled = styled_df.to_html(escape=False)\n",
    "\n",
    "with open('styled_table_borders.html', 'w') as file:\n",
    "    file.write(html_styled)"
   ]
  },
  {
   "cell_type": "code",
   "execution_count": 75,
   "id": "b3dd50db",
   "metadata": {},
   "outputs": [
    {
     "data": {
      "text/html": [
       "<style type=\"text/css\">\n",
       "#T_f3335 th {\n",
       "  padding: 10px;\n",
       "  margin: 5px;\n",
       "  border: 1px solid black;\n",
       "}\n",
       "#T_f3335  td {\n",
       "  padding: 10px;\n",
       "  margin: 5px;\n",
       "  border: 1px solid black;\n",
       "}\n",
       "#T_f3335 table {\n",
       "  border-collapse: separate;\n",
       "  border-spacing: 15px 5px;\n",
       "}\n",
       "</style>\n",
       "<table id=\"T_f3335\">\n",
       "  <thead>\n",
       "    <tr>\n",
       "      <th class=\"blank level0\" >&nbsp;</th>\n",
       "      <th id=\"T_f3335_level0_col0\" class=\"col_heading level0 col0\" >Total amount</th>\n",
       "      <th id=\"T_f3335_level0_col1\" class=\"col_heading level0 col1\" >Items</th>\n",
       "    </tr>\n",
       "    <tr>\n",
       "      <th class=\"index_name level0\" >Index</th>\n",
       "      <th class=\"blank col0\" >&nbsp;</th>\n",
       "      <th class=\"blank col1\" >&nbsp;</th>\n",
       "    </tr>\n",
       "  </thead>\n",
       "  <tbody>\n",
       "    <tr>\n",
       "      <th id=\"T_f3335_level0_row0\" class=\"row_heading level0 row0\" >0</th>\n",
       "      <td id=\"T_f3335_row0_col0\" class=\"data row0 col0\" >120000</td>\n",
       "      <td id=\"T_f3335_row0_col1\" class=\"data row0 col1\" >OEM warranty budget</td>\n",
       "    </tr>\n",
       "    <tr>\n",
       "      <th id=\"T_f3335_level0_row1\" class=\"row_heading level0 row1\" >1</th>\n",
       "      <td id=\"T_f3335_row1_col0\" class=\"data row1 col0\" >180000</td>\n",
       "      <td id=\"T_f3335_row1_col1\" class=\"data row1 col1\" >Dist warranty budget</td>\n",
       "    </tr>\n",
       "    <tr>\n",
       "      <th id=\"T_f3335_level0_row2\" class=\"row_heading level0 row2\" >2</th>\n",
       "      <td id=\"T_f3335_row2_col0\" class=\"data row2 col0\" >50000</td>\n",
       "      <td id=\"T_f3335_row2_col1\" class=\"data row2 col1\" >Extended warranty budget</td>\n",
       "    </tr>\n",
       "    <tr>\n",
       "      <th id=\"T_f3335_level0_row3\" class=\"row_heading level0 row3\" >3</th>\n",
       "      <td id=\"T_f3335_row3_col0\" class=\"data row3 col0\" >20000</td>\n",
       "      <td id=\"T_f3335_row3_col1\" class=\"data row3 col1\" >Goodwill budget</td>\n",
       "    </tr>\n",
       "  </tbody>\n",
       "</table>\n"
      ],
      "text/plain": [
       "<IPython.core.display.HTML object>"
      ]
     },
     "execution_count": 75,
     "metadata": {},
     "output_type": "execute_result"
    }
   ],
   "source": [
    "HTML(filename='styled_table_borders.html')"
   ]
  },
  {
   "cell_type": "code",
   "execution_count": null,
   "id": "0618d280",
   "metadata": {},
   "outputs": [],
   "source": []
  }
 ],
 "metadata": {
  "kernelspec": {
   "display_name": "Python 3 (ipykernel)",
   "language": "python",
   "name": "python3"
  },
  "language_info": {
   "codemirror_mode": {
    "name": "ipython",
    "version": 3
   },
   "file_extension": ".py",
   "mimetype": "text/x-python",
   "name": "python",
   "nbconvert_exporter": "python",
   "pygments_lexer": "ipython3",
   "version": "3.11.5"
  },
  "toc": {
   "base_numbering": 1,
   "nav_menu": {},
   "number_sections": true,
   "sideBar": true,
   "skip_h1_title": true,
   "title_cell": "Styled dataframes",
   "title_sidebar": "Contents",
   "toc_cell": true,
   "toc_position": {
    "height": "calc(100% - 180px)",
    "left": "10px",
    "top": "150px",
    "width": "288px"
   },
   "toc_section_display": true,
   "toc_window_display": false
  },
  "varInspector": {
   "cols": {
    "lenName": 16,
    "lenType": 16,
    "lenVar": 40
   },
   "kernels_config": {
    "python": {
     "delete_cmd_postfix": "",
     "delete_cmd_prefix": "del ",
     "library": "var_list.py",
     "varRefreshCmd": "print(var_dic_list())"
    },
    "r": {
     "delete_cmd_postfix": ") ",
     "delete_cmd_prefix": "rm(",
     "library": "var_list.r",
     "varRefreshCmd": "cat(var_dic_list()) "
    }
   },
   "types_to_exclude": [
    "module",
    "function",
    "builtin_function_or_method",
    "instance",
    "_Feature"
   ],
   "window_display": false
  }
 },
 "nbformat": 4,
 "nbformat_minor": 5
}
