{
 "cells": [
  {
   "cell_type": "markdown",
   "id": "be0a1da9",
   "metadata": {
    "toc": true
   },
   "source": [
    "<h1>Send e-mail via outlook on Mac<span class=\"tocSkip\"></span></h1>\n",
    "<div class=\"toc\"><ul class=\"toc-item\"></ul></div>"
   ]
  },
  {
   "cell_type": "code",
   "execution_count": 18,
   "id": "5d3273b7",
   "metadata": {},
   "outputs": [],
   "source": [
    "import pandas as pd\n",
    "import pretty_html_table\n",
    "from appscript import app, k\n",
    "from mactypes import Alias\n",
    "from pathlib import Path\n",
    "from pretty_html_table import build_table"
   ]
  },
  {
   "cell_type": "code",
   "execution_count": 19,
   "id": "2899b24b",
   "metadata": {},
   "outputs": [],
   "source": [
    "df = pd.DataFrame([[1,'Alex', 'Manager', 5],\n",
    "                  [2,'Sally', 'Specialist', 2],\n",
    "                  [3,'Scott', 'Senior specialist', 4]], \n",
    "columns=['id','name', 'occupation', 'experience'])"
   ]
  },
  {
   "cell_type": "code",
   "execution_count": 20,
   "id": "e49fc2ce",
   "metadata": {},
   "outputs": [
    {
     "data": {
      "text/html": [
       "<div>\n",
       "<style scoped>\n",
       "    .dataframe tbody tr th:only-of-type {\n",
       "        vertical-align: middle;\n",
       "    }\n",
       "\n",
       "    .dataframe tbody tr th {\n",
       "        vertical-align: top;\n",
       "    }\n",
       "\n",
       "    .dataframe thead th {\n",
       "        text-align: right;\n",
       "    }\n",
       "</style>\n",
       "<table border=\"1\" class=\"dataframe\">\n",
       "  <thead>\n",
       "    <tr style=\"text-align: right;\">\n",
       "      <th></th>\n",
       "      <th>id</th>\n",
       "      <th>name</th>\n",
       "      <th>occupation</th>\n",
       "      <th>experience</th>\n",
       "    </tr>\n",
       "  </thead>\n",
       "  <tbody>\n",
       "    <tr>\n",
       "      <th>0</th>\n",
       "      <td>1</td>\n",
       "      <td>Alex</td>\n",
       "      <td>Manager</td>\n",
       "      <td>5</td>\n",
       "    </tr>\n",
       "    <tr>\n",
       "      <th>1</th>\n",
       "      <td>2</td>\n",
       "      <td>Sally</td>\n",
       "      <td>Specialist</td>\n",
       "      <td>2</td>\n",
       "    </tr>\n",
       "    <tr>\n",
       "      <th>2</th>\n",
       "      <td>3</td>\n",
       "      <td>Scott</td>\n",
       "      <td>Senior specialist</td>\n",
       "      <td>4</td>\n",
       "    </tr>\n",
       "  </tbody>\n",
       "</table>\n",
       "</div>"
      ],
      "text/plain": [
       "   id   name         occupation  experience\n",
       "0   1   Alex            Manager           5\n",
       "1   2  Sally         Specialist           2\n",
       "2   3  Scott  Senior specialist           4"
      ]
     },
     "execution_count": 20,
     "metadata": {},
     "output_type": "execute_result"
    }
   ],
   "source": [
    "df"
   ]
  },
  {
   "cell_type": "code",
   "execution_count": 21,
   "id": "16c5626d",
   "metadata": {},
   "outputs": [],
   "source": [
    "#для добавления таблицы в тело письма используем библиотеку pretty_html_table\n",
    "data_set = pretty_html_table.build_table(df,\n",
    "                                         'blue_light', font_size='x-small',\n",
    "                                         text_align='center', width='140px',\n",
    "                                         index=False\n",
    "                                        )\n",
    "outlook = app('Microsoft Outlook')\n",
    "msg = outlook.make(\n",
    "    new=k.outgoing_message,\n",
    "    with_properties={\n",
    "        k.subject: 'Data with employees',\n",
    "        k.content: 'Data table:' + ' ' + ' ' + data_set\n",
    "        }\n",
    ")       \n",
    "msg.make(\n",
    "    new=k.recipient,\n",
    "    with_properties={\n",
    "        k.email_address: {k.address: 'avfil@mail.com'}})\n",
    "#если нужно добавить адресат, то повторяем код (другого способа пока не нашел)\n",
    "msg.make(\n",
    "    new=k.recipient,\n",
    "    with_properties={\n",
    "        k.email_address: {k.address: 'avfil_add@mail.com'}})\n",
    "#если нужно добавить вложение, то укажите эту часть кода\n",
    "file = '/Users/alexfil/Desktop/gb.pdf' #путь к файлу\n",
    "data_file = Alias(str(file))\n",
    "msg.make(\n",
    "    new=k.attachment,\n",
    "    with_properties={\n",
    "        k.file: data_file  #файл вложения\n",
    "        })\n",
    "msg.open()\n",
    "msg.activate()"
   ]
  },
  {
   "cell_type": "code",
   "execution_count": null,
   "id": "812c38b1",
   "metadata": {},
   "outputs": [],
   "source": []
  }
 ],
 "metadata": {
  "kernelspec": {
   "display_name": "Python 3 (ipykernel)",
   "language": "python",
   "name": "python3"
  },
  "language_info": {
   "codemirror_mode": {
    "name": "ipython",
    "version": 3
   },
   "file_extension": ".py",
   "mimetype": "text/x-python",
   "name": "python",
   "nbconvert_exporter": "python",
   "pygments_lexer": "ipython3",
   "version": "3.11.5"
  },
  "toc": {
   "base_numbering": 1,
   "nav_menu": {},
   "number_sections": true,
   "sideBar": true,
   "skip_h1_title": true,
   "title_cell": "Send e-mail via outlook on Mac",
   "title_sidebar": "Contents",
   "toc_cell": true,
   "toc_position": {
    "height": "calc(100% - 180px)",
    "left": "10px",
    "top": "150px",
    "width": "288px"
   },
   "toc_section_display": true,
   "toc_window_display": false
  },
  "varInspector": {
   "cols": {
    "lenName": 16,
    "lenType": 16,
    "lenVar": 40
   },
   "kernels_config": {
    "python": {
     "delete_cmd_postfix": "",
     "delete_cmd_prefix": "del ",
     "library": "var_list.py",
     "varRefreshCmd": "print(var_dic_list())"
    },
    "r": {
     "delete_cmd_postfix": ") ",
     "delete_cmd_prefix": "rm(",
     "library": "var_list.r",
     "varRefreshCmd": "cat(var_dic_list()) "
    }
   },
   "types_to_exclude": [
    "module",
    "function",
    "builtin_function_or_method",
    "instance",
    "_Feature"
   ],
   "window_display": false
  }
 },
 "nbformat": 4,
 "nbformat_minor": 5
}
